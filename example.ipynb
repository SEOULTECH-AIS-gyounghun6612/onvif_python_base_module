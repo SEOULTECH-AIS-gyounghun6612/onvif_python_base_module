{
 "metadata": {
  "language_info": {
   "codemirror_mode": {
    "name": "ipython",
    "version": 3
   },
   "file_extension": ".py",
   "mimetype": "text/x-python",
   "name": "python",
   "nbconvert_exporter": "python",
   "pygments_lexer": "ipython3",
   "version": 3
  },
  "orig_nbformat": 2
 },
 "nbformat": 4,
 "nbformat_minor": 2,
 "cells": [
  {
   "cell_type": "code",
   "execution_count": null,
   "metadata": {},
   "outputs": [],
   "source": [
    "from custom_onvif_python import custom_module as c_onvif\n",
    "import time\n",
    "\n",
    "IP = # Camera IP address\n",
    "http_PORT = 80  # Direct Default Port\n",
    "rtsp_PORT = 554 # Direct Default Port\n",
    "USER =          # Device ONVIF Username\n",
    "PASS =          # Device ONVIF Password\n",
    "DIR_rtsp =   # Device rtsp protocal default stream data directory"
   ]
  },
  {
   "cell_type": "code",
   "execution_count": null,
   "metadata": {},
   "outputs": [],
   "source": [
    "ipcamera_controler = c_onvif.IP_CAMERA_control(USER, PASS, IP, http_PORT, DIR_rtsp, rtsp_PORT)\n",
    "ipcamera_controler.ptz_service_init(0)\n"
   ]
  },
  {
   "cell_type": "code",
   "execution_count": null,
   "metadata": {},
   "outputs": [],
   "source": [
    "# Absolute control example\n",
    "patrol_points = [\n",
    "    [1/6, 1.0, 0],\n",
    "    [1/2, 1.0, 0],\n",
    "    [5/6, 1.0, 0],\n",
    "    [-5/6, 1.0, 0],\n",
    "    [-1/2, 1.0, 0],\n",
    "    [-1/6, 1.0, 0]]\n",
    "\n",
    "for _ct, _point in enumerate(patrol_points):\n",
    "    ipcamera_controler.Absolute_PTZ_control(_point[0], _point[1], _point[2])\n",
    "    ipcamera_controler.image_capture(dispaly_window=None, save_dir=\"{}.jpg\".format(_ct))\n",
    "    # time.sleep(0.01)"
   ]
  },
  {
   "cell_type": "code",
   "execution_count": null,
   "metadata": {},
   "outputs": [],
   "source": [
    "# Preset control example\n",
    "Preset_call_number_list = [0, 1, 2]\n",
    "\n",
    "for _ct, _point in enumerate(Preset_call_number_list):\n",
    "    ipcamera_controler.Preset_PTZ_control(_point)\n",
    "    ipcamera_controler.image_capture(dispaly_window=None, save_dir=\"{}.jpg\".format(_ct))\n",
    "    # time.sleep(0.01)"
   ]
  }
 ]
}